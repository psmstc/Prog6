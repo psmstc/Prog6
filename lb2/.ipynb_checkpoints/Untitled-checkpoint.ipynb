{
 "cells": [
  {
   "cell_type": "code",
   "execution_count": 1,
   "id": "8c78b308-2d28-42f3-81f3-f23f04f37e38",
   "metadata": {},
   "outputs": [],
   "source": [
    "import pandas as pd"
   ]
  },
  {
   "cell_type": "code",
   "execution_count": 2,
   "id": "8c4b41f0-dbdd-4934-90ab-3711abdf8cf3",
   "metadata": {},
   "outputs": [],
   "source": [
    "titanic = pd.read_csv(\"train.csv\")"
   ]
  },
  {
   "cell_type": "code",
   "execution_count": 3,
   "id": "8646fa7b-b39c-440c-bf20-244636e32acb",
   "metadata": {},
   "outputs": [
    {
     "data": {
      "text/html": [
       "<div>\n",
       "<style scoped>\n",
       "    .dataframe tbody tr th:only-of-type {\n",
       "        vertical-align: middle;\n",
       "    }\n",
       "\n",
       "    .dataframe tbody tr th {\n",
       "        vertical-align: top;\n",
       "    }\n",
       "\n",
       "    .dataframe thead th {\n",
       "        text-align: right;\n",
       "    }\n",
       "</style>\n",
       "<table border=\"1\" class=\"dataframe\">\n",
       "  <thead>\n",
       "    <tr style=\"text-align: right;\">\n",
       "      <th></th>\n",
       "      <th>PassengerId</th>\n",
       "      <th>Survived</th>\n",
       "      <th>Pclass</th>\n",
       "      <th>Name</th>\n",
       "      <th>Sex</th>\n",
       "      <th>Age</th>\n",
       "      <th>SibSp</th>\n",
       "      <th>Parch</th>\n",
       "      <th>Ticket</th>\n",
       "      <th>Fare</th>\n",
       "      <th>Cabin</th>\n",
       "      <th>Embarked</th>\n",
       "    </tr>\n",
       "  </thead>\n",
       "  <tbody>\n",
       "    <tr>\n",
       "      <th>0</th>\n",
       "      <td>1</td>\n",
       "      <td>0</td>\n",
       "      <td>3</td>\n",
       "      <td>Braund, Mr. Owen Harris</td>\n",
       "      <td>male</td>\n",
       "      <td>22.0</td>\n",
       "      <td>1</td>\n",
       "      <td>0</td>\n",
       "      <td>A/5 21171</td>\n",
       "      <td>7.2500</td>\n",
       "      <td>NaN</td>\n",
       "      <td>S</td>\n",
       "    </tr>\n",
       "    <tr>\n",
       "      <th>1</th>\n",
       "      <td>2</td>\n",
       "      <td>1</td>\n",
       "      <td>1</td>\n",
       "      <td>Cumings, Mrs. John Bradley (Florence Briggs Th...</td>\n",
       "      <td>female</td>\n",
       "      <td>38.0</td>\n",
       "      <td>1</td>\n",
       "      <td>0</td>\n",
       "      <td>PC 17599</td>\n",
       "      <td>71.2833</td>\n",
       "      <td>C85</td>\n",
       "      <td>C</td>\n",
       "    </tr>\n",
       "    <tr>\n",
       "      <th>2</th>\n",
       "      <td>3</td>\n",
       "      <td>1</td>\n",
       "      <td>3</td>\n",
       "      <td>Heikkinen, Miss. Laina</td>\n",
       "      <td>female</td>\n",
       "      <td>26.0</td>\n",
       "      <td>0</td>\n",
       "      <td>0</td>\n",
       "      <td>STON/O2. 3101282</td>\n",
       "      <td>7.9250</td>\n",
       "      <td>NaN</td>\n",
       "      <td>S</td>\n",
       "    </tr>\n",
       "    <tr>\n",
       "      <th>3</th>\n",
       "      <td>4</td>\n",
       "      <td>1</td>\n",
       "      <td>1</td>\n",
       "      <td>Futrelle, Mrs. Jacques Heath (Lily May Peel)</td>\n",
       "      <td>female</td>\n",
       "      <td>35.0</td>\n",
       "      <td>1</td>\n",
       "      <td>0</td>\n",
       "      <td>113803</td>\n",
       "      <td>53.1000</td>\n",
       "      <td>C123</td>\n",
       "      <td>S</td>\n",
       "    </tr>\n",
       "    <tr>\n",
       "      <th>4</th>\n",
       "      <td>5</td>\n",
       "      <td>0</td>\n",
       "      <td>3</td>\n",
       "      <td>Allen, Mr. William Henry</td>\n",
       "      <td>male</td>\n",
       "      <td>35.0</td>\n",
       "      <td>0</td>\n",
       "      <td>0</td>\n",
       "      <td>373450</td>\n",
       "      <td>8.0500</td>\n",
       "      <td>NaN</td>\n",
       "      <td>S</td>\n",
       "    </tr>\n",
       "    <tr>\n",
       "      <th>...</th>\n",
       "      <td>...</td>\n",
       "      <td>...</td>\n",
       "      <td>...</td>\n",
       "      <td>...</td>\n",
       "      <td>...</td>\n",
       "      <td>...</td>\n",
       "      <td>...</td>\n",
       "      <td>...</td>\n",
       "      <td>...</td>\n",
       "      <td>...</td>\n",
       "      <td>...</td>\n",
       "      <td>...</td>\n",
       "    </tr>\n",
       "    <tr>\n",
       "      <th>886</th>\n",
       "      <td>887</td>\n",
       "      <td>0</td>\n",
       "      <td>2</td>\n",
       "      <td>Montvila, Rev. Juozas</td>\n",
       "      <td>male</td>\n",
       "      <td>27.0</td>\n",
       "      <td>0</td>\n",
       "      <td>0</td>\n",
       "      <td>211536</td>\n",
       "      <td>13.0000</td>\n",
       "      <td>NaN</td>\n",
       "      <td>S</td>\n",
       "    </tr>\n",
       "    <tr>\n",
       "      <th>887</th>\n",
       "      <td>888</td>\n",
       "      <td>1</td>\n",
       "      <td>1</td>\n",
       "      <td>Graham, Miss. Margaret Edith</td>\n",
       "      <td>female</td>\n",
       "      <td>19.0</td>\n",
       "      <td>0</td>\n",
       "      <td>0</td>\n",
       "      <td>112053</td>\n",
       "      <td>30.0000</td>\n",
       "      <td>B42</td>\n",
       "      <td>S</td>\n",
       "    </tr>\n",
       "    <tr>\n",
       "      <th>888</th>\n",
       "      <td>889</td>\n",
       "      <td>0</td>\n",
       "      <td>3</td>\n",
       "      <td>Johnston, Miss. Catherine Helen \"Carrie\"</td>\n",
       "      <td>female</td>\n",
       "      <td>NaN</td>\n",
       "      <td>1</td>\n",
       "      <td>2</td>\n",
       "      <td>W./C. 6607</td>\n",
       "      <td>23.4500</td>\n",
       "      <td>NaN</td>\n",
       "      <td>S</td>\n",
       "    </tr>\n",
       "    <tr>\n",
       "      <th>889</th>\n",
       "      <td>890</td>\n",
       "      <td>1</td>\n",
       "      <td>1</td>\n",
       "      <td>Behr, Mr. Karl Howell</td>\n",
       "      <td>male</td>\n",
       "      <td>26.0</td>\n",
       "      <td>0</td>\n",
       "      <td>0</td>\n",
       "      <td>111369</td>\n",
       "      <td>30.0000</td>\n",
       "      <td>C148</td>\n",
       "      <td>C</td>\n",
       "    </tr>\n",
       "    <tr>\n",
       "      <th>890</th>\n",
       "      <td>891</td>\n",
       "      <td>0</td>\n",
       "      <td>3</td>\n",
       "      <td>Dooley, Mr. Patrick</td>\n",
       "      <td>male</td>\n",
       "      <td>32.0</td>\n",
       "      <td>0</td>\n",
       "      <td>0</td>\n",
       "      <td>370376</td>\n",
       "      <td>7.7500</td>\n",
       "      <td>NaN</td>\n",
       "      <td>Q</td>\n",
       "    </tr>\n",
       "  </tbody>\n",
       "</table>\n",
       "<p>891 rows × 12 columns</p>\n",
       "</div>"
      ],
      "text/plain": [
       "     PassengerId  Survived  Pclass  \\\n",
       "0              1         0       3   \n",
       "1              2         1       1   \n",
       "2              3         1       3   \n",
       "3              4         1       1   \n",
       "4              5         0       3   \n",
       "..           ...       ...     ...   \n",
       "886          887         0       2   \n",
       "887          888         1       1   \n",
       "888          889         0       3   \n",
       "889          890         1       1   \n",
       "890          891         0       3   \n",
       "\n",
       "                                                  Name     Sex   Age  SibSp  \\\n",
       "0                              Braund, Mr. Owen Harris    male  22.0      1   \n",
       "1    Cumings, Mrs. John Bradley (Florence Briggs Th...  female  38.0      1   \n",
       "2                               Heikkinen, Miss. Laina  female  26.0      0   \n",
       "3         Futrelle, Mrs. Jacques Heath (Lily May Peel)  female  35.0      1   \n",
       "4                             Allen, Mr. William Henry    male  35.0      0   \n",
       "..                                                 ...     ...   ...    ...   \n",
       "886                              Montvila, Rev. Juozas    male  27.0      0   \n",
       "887                       Graham, Miss. Margaret Edith  female  19.0      0   \n",
       "888           Johnston, Miss. Catherine Helen \"Carrie\"  female   NaN      1   \n",
       "889                              Behr, Mr. Karl Howell    male  26.0      0   \n",
       "890                                Dooley, Mr. Patrick    male  32.0      0   \n",
       "\n",
       "     Parch            Ticket     Fare Cabin Embarked  \n",
       "0        0         A/5 21171   7.2500   NaN        S  \n",
       "1        0          PC 17599  71.2833   C85        C  \n",
       "2        0  STON/O2. 3101282   7.9250   NaN        S  \n",
       "3        0            113803  53.1000  C123        S  \n",
       "4        0            373450   8.0500   NaN        S  \n",
       "..     ...               ...      ...   ...      ...  \n",
       "886      0            211536  13.0000   NaN        S  \n",
       "887      0            112053  30.0000   B42        S  \n",
       "888      2        W./C. 6607  23.4500   NaN        S  \n",
       "889      0            111369  30.0000  C148        C  \n",
       "890      0            370376   7.7500   NaN        Q  \n",
       "\n",
       "[891 rows x 12 columns]"
      ]
     },
     "execution_count": 3,
     "metadata": {},
     "output_type": "execute_result"
    }
   ],
   "source": [
    "titanic"
   ]
  },
  {
   "cell_type": "markdown",
   "id": "450da42d-dba3-496f-b1ab-9246a90bb656",
   "metadata": {},
   "source": [
    "# Задание 1"
   ]
  },
  {
   "cell_type": "code",
   "execution_count": 8,
   "id": "39dae509-47d5-4848-a38c-60c8ec72a4f4",
   "metadata": {},
   "outputs": [
    {
     "name": "stdout",
     "output_type": "stream",
     "text": [
      "Мужчин: 577, Женщин: 314\n"
     ]
    }
   ],
   "source": [
    "print(f\"Мужчин: {titanic['Sex'].value_counts()['male']}, Женщин: {titanic['Sex'].value_counts()['female']}\")"
   ]
  },
  {
   "cell_type": "markdown",
   "id": "06c69f96-7ce3-4828-92bb-4fc7e155806c",
   "metadata": {},
   "source": [
    "# Задание 2"
   ]
  },
  {
   "cell_type": "code",
   "execution_count": 10,
   "id": "b77af7cb-d374-4f0e-94b1-4738d54e6518",
   "metadata": {},
   "outputs": [
    {
     "name": "stdout",
     "output_type": "stream",
     "text": [
      "Cherbourg: 168, Queenstown: 77, Southampton: 644\n"
     ]
    }
   ],
   "source": [
    "print(f\"Cherbourg: {titanic['Embarked'].value_counts()['C']}, Queenstown: {titanic['Embarked'].value_counts()['Q']}, Southampton: {titanic['Embarked'].value_counts()['S']}\")"
   ]
  },
  {
   "cell_type": "markdown",
   "id": "1a6a04c1-2978-4a80-896c-d51bcc3447a3",
   "metadata": {},
   "source": [
    "# Задание 3"
   ]
  },
  {
   "cell_type": "code",
   "execution_count": 18,
   "id": "d6ca1303-7e81-4e75-8e77-1f948106a704",
   "metadata": {},
   "outputs": [],
   "source": [
    "all_people = titanic.iloc[-1]['PassengerId']"
   ]
  },
  {
   "cell_type": "code",
   "execution_count": 25,
   "id": "42d3b321-65c7-46ac-aa23-5fc23e5875fd",
   "metadata": {},
   "outputs": [
    {
     "name": "stdout",
     "output_type": "stream",
     "text": [
      "61.62 % погибло, Всего погибло: 549\n"
     ]
    }
   ],
   "source": [
    "print(f'{round(((titanic['Survived'].value_counts()[0]) / all_people * 100), 2)} % погибло, Всего погибло: {(titanic['Survived'].value_counts()[0])}')"
   ]
  },
  {
   "cell_type": "markdown",
   "id": "5869b367-51da-4868-9544-66a3b215974f",
   "metadata": {},
   "source": [
    "# Задание 4"
   ]
  },
  {
   "cell_type": "code",
   "execution_count": 41,
   "id": "f88dd720-53dc-4934-add9-c1f0d4fd366d",
   "metadata": {},
   "outputs": [
    {
     "name": "stdout",
     "output_type": "stream",
     "text": [
      "24.24 % в первом классе\n"
     ]
    }
   ],
   "source": [
    "print(f'{round((titanic[\"Pclass\"] == 1).sum() / all_people * 100, 2)} % в первом классе')"
   ]
  },
  {
   "cell_type": "code",
   "execution_count": 42,
   "id": "ecf6a1a5-8f93-4b03-a771-418eb0c3c2d2",
   "metadata": {},
   "outputs": [
    {
     "name": "stdout",
     "output_type": "stream",
     "text": [
      "20.65 % во втором классе\n"
     ]
    }
   ],
   "source": [
    "print(f'{round((titanic[\"Pclass\"] == 2).sum() / all_people * 100, 2)} % во втором классе')"
   ]
  },
  {
   "cell_type": "code",
   "execution_count": 43,
   "id": "0e503740-d264-474a-934f-fcd3d9bee835",
   "metadata": {},
   "outputs": [
    {
     "name": "stdout",
     "output_type": "stream",
     "text": [
      "55.11 % в третьем классе\n"
     ]
    }
   ],
   "source": [
    "print(f'{round((titanic[\"Pclass\"] == 3).sum() / all_people * 100, 2)} % в третьем классе')"
   ]
  },
  {
   "cell_type": "markdown",
   "id": "54c1a9d2-0c63-48bb-817e-f1d1244ba84e",
   "metadata": {},
   "source": [
    "# Задание 5"
   ]
  },
  {
   "cell_type": "code",
   "execution_count": 44,
   "id": "e09d3c32-9698-4522-a049-ce5e52c40bfc",
   "metadata": {},
   "outputs": [],
   "source": [
    "spouses_children = titanic[['SibSp', 'Parch']]"
   ]
  },
  {
   "cell_type": "code",
   "execution_count": 46,
   "id": "e7345c10-f7da-413b-9a91-747a227e9bb0",
   "metadata": {},
   "outputs": [
    {
     "data": {
      "text/html": [
       "<div>\n",
       "<style scoped>\n",
       "    .dataframe tbody tr th:only-of-type {\n",
       "        vertical-align: middle;\n",
       "    }\n",
       "\n",
       "    .dataframe tbody tr th {\n",
       "        vertical-align: top;\n",
       "    }\n",
       "\n",
       "    .dataframe thead th {\n",
       "        text-align: right;\n",
       "    }\n",
       "</style>\n",
       "<table border=\"1\" class=\"dataframe\">\n",
       "  <thead>\n",
       "    <tr style=\"text-align: right;\">\n",
       "      <th></th>\n",
       "      <th>SibSp</th>\n",
       "      <th>Parch</th>\n",
       "    </tr>\n",
       "  </thead>\n",
       "  <tbody>\n",
       "    <tr>\n",
       "      <th>SibSp</th>\n",
       "      <td>1.000000</td>\n",
       "      <td>0.414838</td>\n",
       "    </tr>\n",
       "    <tr>\n",
       "      <th>Parch</th>\n",
       "      <td>0.414838</td>\n",
       "      <td>1.000000</td>\n",
       "    </tr>\n",
       "  </tbody>\n",
       "</table>\n",
       "</div>"
      ],
      "text/plain": [
       "          SibSp     Parch\n",
       "SibSp  1.000000  0.414838\n",
       "Parch  0.414838  1.000000"
      ]
     },
     "execution_count": 46,
     "metadata": {},
     "output_type": "execute_result"
    }
   ],
   "source": [
    "spouses_children.corr(method='pearson')"
   ]
  },
  {
   "cell_type": "markdown",
   "id": "f455e6c5-4f57-4ade-b35c-85efbbfd636d",
   "metadata": {},
   "source": [
    "# Задание 6"
   ]
  },
  {
   "cell_type": "code",
   "execution_count": 68,
   "id": "cff3de24-9673-42b2-82e2-6aae18d0fc5d",
   "metadata": {},
   "outputs": [
    {
     "data": {
      "text/html": [
       "<div>\n",
       "<style scoped>\n",
       "    .dataframe tbody tr th:only-of-type {\n",
       "        vertical-align: middle;\n",
       "    }\n",
       "\n",
       "    .dataframe tbody tr th {\n",
       "        vertical-align: top;\n",
       "    }\n",
       "\n",
       "    .dataframe thead th {\n",
       "        text-align: right;\n",
       "    }\n",
       "</style>\n",
       "<table border=\"1\" class=\"dataframe\">\n",
       "  <thead>\n",
       "    <tr style=\"text-align: right;\">\n",
       "      <th></th>\n",
       "      <th>Age</th>\n",
       "      <th>Survived</th>\n",
       "    </tr>\n",
       "  </thead>\n",
       "  <tbody>\n",
       "    <tr>\n",
       "      <th>Age</th>\n",
       "      <td>1.000000</td>\n",
       "      <td>-0.077221</td>\n",
       "    </tr>\n",
       "    <tr>\n",
       "      <th>Survived</th>\n",
       "      <td>-0.077221</td>\n",
       "      <td>1.000000</td>\n",
       "    </tr>\n",
       "  </tbody>\n",
       "</table>\n",
       "</div>"
      ],
      "text/plain": [
       "               Age  Survived\n",
       "Age       1.000000 -0.077221\n",
       "Survived -0.077221  1.000000"
      ]
     },
     "execution_count": 68,
     "metadata": {},
     "output_type": "execute_result"
    }
   ],
   "source": [
    "age_survived = titanic[['Age', 'Survived']]\n",
    "age_survived.corr(method='pearson')"
   ]
  },
  {
   "cell_type": "markdown",
   "id": "407c9738-0095-4b53-9240-4ffe294d539f",
   "metadata": {},
   "source": [
    "Корреляция между возрастом и параметром Survived практически **нулевая**"
   ]
  },
  {
   "cell_type": "code",
   "execution_count": 67,
   "id": "41fd19ee-77bf-4cc4-aeb6-4b1c89a12453",
   "metadata": {},
   "outputs": [
    {
     "data": {
      "text/html": [
       "<div>\n",
       "<style scoped>\n",
       "    .dataframe tbody tr th:only-of-type {\n",
       "        vertical-align: middle;\n",
       "    }\n",
       "\n",
       "    .dataframe tbody tr th {\n",
       "        vertical-align: top;\n",
       "    }\n",
       "\n",
       "    .dataframe thead th {\n",
       "        text-align: right;\n",
       "    }\n",
       "</style>\n",
       "<table border=\"1\" class=\"dataframe\">\n",
       "  <thead>\n",
       "    <tr style=\"text-align: right;\">\n",
       "      <th></th>\n",
       "      <th>SexInt</th>\n",
       "      <th>Survived</th>\n",
       "    </tr>\n",
       "  </thead>\n",
       "  <tbody>\n",
       "    <tr>\n",
       "      <th>SexInt</th>\n",
       "      <td>1.000000</td>\n",
       "      <td>0.543351</td>\n",
       "    </tr>\n",
       "    <tr>\n",
       "      <th>Survived</th>\n",
       "      <td>0.543351</td>\n",
       "      <td>1.000000</td>\n",
       "    </tr>\n",
       "  </tbody>\n",
       "</table>\n",
       "</div>"
      ],
      "text/plain": [
       "            SexInt  Survived\n",
       "SexInt    1.000000  0.543351\n",
       "Survived  0.543351  1.000000"
      ]
     },
     "execution_count": 67,
     "metadata": {},
     "output_type": "execute_result"
    }
   ],
   "source": [
    "titanic['SexInt'] = titanic['Sex'].map({\"male\": 0, \"female\": 1})\n",
    "\n",
    "sex_survived = titanic[['SexInt', 'Survived']]\n",
    "sex_survived.corr(method='pearson')"
   ]
  },
  {
   "cell_type": "markdown",
   "id": "c6f73acb-ef99-43ab-9b5c-927e8b620b7a",
   "metadata": {},
   "source": [
    "Корреляция между полом и параметром Survived **положительная и равна примерно 0.54 по методу Пирсона**"
   ]
  },
  {
   "cell_type": "code",
   "execution_count": 54,
   "id": "77ec9615-48f9-4a11-94e5-9b33375434f6",
   "metadata": {},
   "outputs": [
    {
     "data": {
      "text/html": [
       "<div>\n",
       "<style scoped>\n",
       "    .dataframe tbody tr th:only-of-type {\n",
       "        vertical-align: middle;\n",
       "    }\n",
       "\n",
       "    .dataframe tbody tr th {\n",
       "        vertical-align: top;\n",
       "    }\n",
       "\n",
       "    .dataframe thead th {\n",
       "        text-align: right;\n",
       "    }\n",
       "</style>\n",
       "<table border=\"1\" class=\"dataframe\">\n",
       "  <thead>\n",
       "    <tr style=\"text-align: right;\">\n",
       "      <th></th>\n",
       "      <th>Pclass</th>\n",
       "      <th>Survived</th>\n",
       "    </tr>\n",
       "  </thead>\n",
       "  <tbody>\n",
       "    <tr>\n",
       "      <th>Pclass</th>\n",
       "      <td>1.000000</td>\n",
       "      <td>-0.338481</td>\n",
       "    </tr>\n",
       "    <tr>\n",
       "      <th>Survived</th>\n",
       "      <td>-0.338481</td>\n",
       "      <td>1.000000</td>\n",
       "    </tr>\n",
       "  </tbody>\n",
       "</table>\n",
       "</div>"
      ],
      "text/plain": [
       "            Pclass  Survived\n",
       "Pclass    1.000000 -0.338481\n",
       "Survived -0.338481  1.000000"
      ]
     },
     "execution_count": 54,
     "metadata": {},
     "output_type": "execute_result"
    }
   ],
   "source": [
    "pclass_survived = titanic[['Pclass', 'Survived']]\n",
    "pclass_survived.corr(method='pearson')"
   ]
  },
  {
   "cell_type": "markdown",
   "id": "5599987d-5bef-4685-bb12-a5fa2dabe9f4",
   "metadata": {},
   "source": [
    "Корреляция между классом кабины и параметром Survived **отрицательна и равна примерно -0.33 по методу Пирсона**.\n",
    "Чем престижнее класс, тем более высок параметр Survived"
   ]
  },
  {
   "cell_type": "markdown",
   "id": "598e882a-b543-428c-a522-39c0ce5c8246",
   "metadata": {},
   "source": [
    "# Задание 7"
   ]
  },
  {
   "cell_type": "code",
   "execution_count": 80,
   "id": "d19e9826-6cfa-49e8-b4e9-6af0936e7786",
   "metadata": {},
   "outputs": [
    {
     "name": "stdout",
     "output_type": "stream",
     "text": [
      "Средний возраст пассажиров: 29.7 лет\n",
      "Медиана возраста: 28.0 лет\n",
      "Максимальный возраст: 80.0 лет\n",
      "Минимальный возраст: 0.42, Приблизительно 5 месяцев\n"
     ]
    }
   ],
   "source": [
    "print(f'Средний возраст пассажиров: {round(titanic['Age'].mean(),1)} лет') \n",
    "print(f'Медиана возраста: {titanic['Age'].median()} лет')\n",
    "print(f'Максимальный возраст: {titanic['Age'].max()} лет')\n",
    "print(f'Минимальный возраст: {titanic['Age'].min()}, Приблизительно 5 месяцев')"
   ]
  },
  {
   "cell_type": "markdown",
   "id": "d9667f3e-d4f8-4979-a63a-56f9437c7988",
   "metadata": {},
   "source": [
    "# Задание 8"
   ]
  },
  {
   "cell_type": "code",
   "execution_count": 84,
   "id": "3f13b3e7-cc63-4ae1-9e90-2d38802e2188",
   "metadata": {},
   "outputs": [
    {
     "name": "stdout",
     "output_type": "stream",
     "text": [
      "Средняя стоимость билета: 32.204\n",
      "Медиана стоимости билета: 14.4542 долларов\n",
      "Максимальная цена билета: 512.3292 долларов\n",
      "Минимальная цена билета: 0.0 долларов\n"
     ]
    }
   ],
   "source": [
    "print(f'Средняя стоимость билета: {round(titanic['Fare'].mean(),3)}') \n",
    "print(f'Медиана стоимости билета: {titanic['Fare'].median()} долларов')\n",
    "print(f'Максимальная цена билета: {titanic['Fare'].max()} долларов')\n",
    "print(f'Минимальная цена билета: {titanic['Fare'].min()} долларов')"
   ]
  },
  {
   "cell_type": "markdown",
   "id": "530560a0-8ac6-4c94-a4ad-6443502b7aee",
   "metadata": {},
   "source": [
    "# Задание 9"
   ]
  },
  {
   "cell_type": "code",
   "execution_count": 125,
   "id": "e2d6aae7-faf7-4e7e-8c96-eb2696813f0a",
   "metadata": {},
   "outputs": [
    {
     "name": "stdout",
     "output_type": "stream",
     "text": [
      "Самое популярное мужское имя: William\n"
     ]
    }
   ],
   "source": [
    "male_names = titanic.loc[titanic['Sex']=='male', 'Name']\n",
    "\n",
    "\n",
    "def extract_first_name(full_name):\n",
    "    # разделяем по запятой, берем вторую часть, затем по точке, берем вторую часть\n",
    "    return full_name.split(', ')[1].split('. ')[1].split(' ')[0]\n",
    "\n",
    "male_first_names = male_names.apply(extract_first_name)\n",
    "\n",
    "most_common_male_name = male_first_names.mode()[0]\n",
    "print(f'Самое популярное мужское имя: {most_common_male_name}')"
   ]
  },
  {
   "cell_type": "markdown",
   "id": "c1f50e8c-2f76-4eca-9741-5b261cc5c0d2",
   "metadata": {},
   "source": [
    "# Задание 10"
   ]
  },
  {
   "cell_type": "code",
   "execution_count": 132,
   "id": "564ecb60-2f8a-4922-ab20-9040b575f814",
   "metadata": {
    "scrolled": true
   },
   "outputs": [
    {
     "name": "stdout",
     "output_type": "stream",
     "text": [
      "Самое популярное мужское имя (старше 15): William\n",
      "Самое популярное женское имя (старше 15): Anna\n"
     ]
    }
   ],
   "source": [
    "male_names_above_15 = titanic.query(\"Sex == 'male' and Age > 15\")['Name']\n",
    "female_names_above_15 = titanic.query(\"Sex == 'female' and Age > 15\")['Name']\n",
    "\n",
    "def extract_first_name(full_name):\n",
    "    try:\n",
    "        name_part = full_name.split(', ')[1].split('. ')[1]\n",
    "        if '(' in name_part and ')' in name_part:\n",
    "            name_in_brackets = name_part.split('(')[1].split(')')[0]\n",
    "            return name_in_brackets.split(' ')[0]\n",
    "        return name_part.split(' ')[0]\n",
    "    except IndexError:\n",
    "        return None\n",
    "\n",
    "male_first_names_above_15 = male_names_above_15.apply(extract_first_name).dropna()\n",
    "female_first_names_above_15 = female_names_above_15.apply(extract_first_name).dropna()\n",
    "\n",
    "most_common_male = male_first_names_above_15.mode()[0]\n",
    "most_common_female = female_first_names_above_15.mode()[0]\n",
    "\n",
    "print(f'Самое популярное мужское имя (старше 15): {most_common_male}')\n",
    "print(f'Самое популярное женское имя (старше 15): {most_common_female}')"
   ]
  }
 ],
 "metadata": {
  "kernelspec": {
   "display_name": "Python 3 (ipykernel)",
   "language": "python",
   "name": "python3"
  },
  "language_info": {
   "codemirror_mode": {
    "name": "ipython",
    "version": 3
   },
   "file_extension": ".py",
   "mimetype": "text/x-python",
   "name": "python",
   "nbconvert_exporter": "python",
   "pygments_lexer": "ipython3",
   "version": "3.12.2"
  }
 },
 "nbformat": 4,
 "nbformat_minor": 5
}
